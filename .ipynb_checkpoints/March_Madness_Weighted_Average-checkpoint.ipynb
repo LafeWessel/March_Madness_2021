{
 "cells": [
  {
   "cell_type": "markdown",
   "metadata": {},
   "source": [
    "# Weighted Averages for March Madness\n",
    "\n",
    "\n"
   ]
  },
  {
   "cell_type": "code",
   "execution_count": null,
   "metadata": {},
   "outputs": [],
   "source": [
    "# import libraries\n",
    "import pandas as pd\n",
    "import numpy as np\n",
    "from sklearn.preprocessing import MinMaxScaler,StandardScaler"
   ]
  },
  {
   "cell_type": "code",
   "execution_count": null,
   "metadata": {
    "scrolled": true
   },
   "outputs": [],
   "source": [
    "# import excel file and add year column and values.\n",
    "# each excel sheet is imported and put into a dictionary with the key being the respective year\n",
    "sheets = ['2019','2018','2017','2016','2015','2014']\n",
    "dat = {}\n",
    "for s in sheets:\n",
    "    dat[s] = pd.read_excel('March Madness.xlsx',sheet_name=s)\n",
    "    dat[s]['Year'] = int(s)\n",
    "    dat[s] = dat[s].dropna()"
   ]
  },
  {
   "cell_type": "code",
   "execution_count": null,
   "metadata": {},
   "outputs": [],
   "source": [
    "# compress all the data into the same dataframe and delete original dictionary of dataframes\n",
    "df = dat[sheets[0]]\n",
    "for s in sheets[1:]:\n",
    "    df = df.append(dat[s])\n",
    "df = df.reset_index()\n",
    "df = df.drop(['index'],axis=1)\n",
    "del(dat)"
   ]
  },
  {
   "cell_type": "code",
   "execution_count": null,
   "metadata": {},
   "outputs": [],
   "source": [
    "df.head()"
   ]
  },
  {
   "cell_type": "code",
   "execution_count": null,
   "metadata": {
    "scrolled": true
   },
   "outputs": [],
   "source": [
    "df.info()"
   ]
  },
  {
   "cell_type": "code",
   "execution_count": null,
   "metadata": {},
   "outputs": [],
   "source": [
    "# getScore takes a dataframe and returns what the score of that dataframe is based on how it is sorted\n",
    "# The score is calculated as 10 points for each win of team 1, 9 points for each win of team 2, ...\n",
    "# 1 point for each win of team 10. If a team is a Cinderella, 5 points are added.\n",
    "def getScore(data):\n",
    "    # get the top 10 rows\n",
    "    data = data.reset_index()\n",
    "    score = 0\n",
    "    # calculate the score\n",
    "    for i in range(0,10):\n",
    "\n",
    "        # calculate for top 10\n",
    "        score += (10-i) * data.iloc[i]['Number of Tournament Wins']\n",
    "        \n",
    "        # account for cinderella teams\n",
    "        if data.iloc[i,:]['Cinderella'] > 0:\n",
    "            score += 5\n",
    "    # end for\n",
    "    return score"
   ]
  },
  {
   "cell_type": "code",
   "execution_count": null,
   "metadata": {},
   "outputs": [],
   "source": [
    "# topCorrelations returns the column names of x(int) columns that have the highest R^2 correlation values to column cor\n",
    "def topCorrelations(x,df,cor):\n",
    "    top = df.corr()[cor]\n",
    "    top = top**2\n",
    "    return list(top.sort_values(ascending = False)[1:x+1].index)"
   ]
  },
  {
   "cell_type": "code",
   "execution_count": null,
   "metadata": {},
   "outputs": [],
   "source": [
    "# scaleData scales the data in columns cols of dataframe df based on the kind of scaling selected\n",
    "def scaleData(df, cols, kind):\n",
    "    if kind == \"Std\":\n",
    "        for c in cols:\n",
    "            df[c] = StandardScaler().fit_transform(df[[c]])\n",
    "    elif kind == \"MinMax\":\n",
    "        for c in cols:\n",
    "            df[c] = MinMaxScaler((0,1)).fit_transform(df[[c]])\n",
    "    return df"
   ]
  },
  {
   "cell_type": "code",
   "execution_count": null,
   "metadata": {},
   "outputs": [],
   "source": [
    "# weightTests tests each possible combination of coefficients for the weighted averages based on the coefficients in \n",
    "# coef_range, storing and returning the results in Dataframe results.\n",
    "# Dataframe df contains the columns that are going to be weighted, the total number of tournament wins, \n",
    "# Cinderella, and a Rank column for the calculated rank of each team.\n",
    "\n",
    "def weightTests(df, curr_coefs, coef_range, n_columns, results, scale, year):\n",
    "    # if final coef has been set\n",
    "    if len(curr_coefs) == n_columns:\n",
    "\n",
    "        # calculate new rank based on coefficients\n",
    "        df.loc[:,'Rank'] = 0\n",
    "        for cl in range(0,n_columns):\n",
    "            df.loc[:,'Rank'] += df.iloc[:,cl] * curr_coefs[cl]\n",
    "        # end for\n",
    "\n",
    "        # calculate new score\n",
    "        df = df.sort_values(['Rank'],ascending=False)\n",
    "        endScore = getScore(data = df)\n",
    "\n",
    "        # create new results entry\n",
    "        res = {\"Score\":endScore, 'Year':year, \"Scale\":scale}\n",
    "        for cl in range(n_columns):\n",
    "            res[df.columns[cl]] = curr_coefs[cl]\n",
    "        #end for\n",
    "\n",
    "        results = results.append(res, ignore_index = True)\n",
    "    # end if\n",
    "    \n",
    "    # need to set more coefficients\n",
    "    else:\n",
    "        for c in coef_range:\n",
    "            curr_coefs.append(c)\n",
    "            # call weightTests with new coefficients and same previous values\n",
    "            results = weightTests(df = df, curr_coefs = curr_coefs,\n",
    "                        coef_range = coef_range,results = results, \n",
    "                        n_columns = n_columns, year = year, scale = scale)\n",
    "            curr_coefs.pop()\n",
    "        #end for\n",
    "    #end else\n",
    "    \n",
    "    return results"
   ]
  },
  {
   "cell_type": "code",
   "execution_count": null,
   "metadata": {},
   "outputs": [],
   "source": [
    "# runModel takes a number of correlations to look at (topCorr(int)), which column to correlate to (corVar),\n",
    "# range of weights (weightRange), a Dataframe (data), and the specific year of data (year).\n",
    "# runModel gets the top correlations, creates 2 copies of the data and scales them through MinMax and Standard scalers.\n",
    "# After this, weightTests are run on all 3 copies of the data and stored in the results dataframe that is subsequently\n",
    "# returned.\n",
    "\n",
    "def runModel(topCorr, weightRange, data, corVar, year):\n",
    "    # Get top correlation columns\n",
    "    cols = topCorrelations(x=topCorr,df=data.drop(['Cinderella'],axis=1),cor=corVar)\n",
    "    cols.append('Rank')\n",
    "    print(cols)\n",
    "    \n",
    "    # Create results dataframe\n",
    "    results = pd.DataFrame(columns = cols)\n",
    "    \n",
    "    \n",
    "    # Scale data Std\n",
    "    df_s = data.copy()\n",
    "    df_s = scaleData(df = df_s,cols = cols[:-1],kind = \"Std\")\n",
    "    # Scale data MinMax\n",
    "    df_m = data.copy()\n",
    "    df_m = scaleData(df = df_m, cols = cols[:-1],kind = \"MinMax\")\n",
    "    \n",
    "    cols.append(corVar)\n",
    "    if 'Cinderella' not in cols:\n",
    "        cols.append('Cinderella')\n",
    "        \n",
    "    data = data[cols]\n",
    "    df_s = df_s[cols]\n",
    "    df_m = df_m[cols]\n",
    "    \n",
    "    # normal tests\n",
    "    print(\"Normal Tests\", year)\n",
    "    results = results.append(weightTests(df = data, curr_coefs = [], coef_range = weightRange, \n",
    "                                         results = results, n_columns = topCorr, year = year, scale = \"None\"))\n",
    "    # std tests\n",
    "    print(\"Std Tests\", year)\n",
    "    results = results.append(weightTests(df = df_s, curr_coefs = [], coef_range = weightRange, \n",
    "                                        results = results, n_columns = topCorr, year = year, scale = \"Std\"))\n",
    "    # minmax tests\n",
    "    print(\"MinMax Tests\", year)\n",
    "    results = results.append(weightTests(df = df_m, curr_coefs = [], coef_range = weightRange, \n",
    "                                         results = results, n_columns = topCorr, year = year, scale = \"MinMax\"))\n",
    "    return results"
   ]
  },
  {
   "cell_type": "code",
   "execution_count": null,
   "metadata": {},
   "outputs": [],
   "source": [
    "# Model parameters\n",
    "# weights range\n",
    "ranges = [0,0.25,0.5,0.75,1]\n",
    "# number of top features to use for making weighted average\n",
    "topCorr = 5\n",
    "# which column to correlate to\n",
    "corrTo = \"Number of Tournament Wins\""
   ]
  },
  {
   "cell_type": "code",
   "execution_count": null,
   "metadata": {
    "scrolled": true
   },
   "outputs": [],
   "source": [
    "# run tests on each year of data and store in an excel file \n",
    "results = pd.DataFrame()\n",
    "df['Rank'] = 0\n",
    "# loop through years\n",
    "for y in df['Year'].unique():\n",
    "    yr = df[df['Year'] == y]\n",
    "    results = results.append(runModel(topCorr = topCorr, weightRange = ranges, data = yr.copy(), corVar = corrTo, year = y).copy())\n",
    "\n",
    "# save results to excel\n",
    "results.to_excel(\"Weighted_Results.xlsx\")"
   ]
  }
 ],
 "metadata": {
  "kernelspec": {
   "display_name": "Python 3",
   "language": "python",
   "name": "python3"
  },
  "language_info": {
   "codemirror_mode": {
    "name": "ipython",
    "version": 3
   },
   "file_extension": ".py",
   "mimetype": "text/x-python",
   "name": "python",
   "nbconvert_exporter": "python",
   "pygments_lexer": "ipython3",
   "version": "3.8.5"
  }
 },
 "nbformat": 4,
 "nbformat_minor": 4
}
