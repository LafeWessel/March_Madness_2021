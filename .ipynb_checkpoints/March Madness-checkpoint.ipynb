{
 "cells": [
  {
   "cell_type": "code",
   "execution_count": 1,
   "metadata": {},
   "outputs": [],
   "source": [
    "import pandas as pd\n",
    "import numpy as np\n",
    "import matplotlib.pyplot as plt"
   ]
  },
  {
   "cell_type": "code",
   "execution_count": 2,
   "metadata": {},
   "outputs": [],
   "source": [
    "#import dataframe and add year column and values\n",
    "sheets = ['2019','2018','2017','2016','2015','2014']\n",
    "dat = {}\n",
    "for s in sheets:\n",
    "    dat[s] = pd.read_excel('March Madness.xlsx',sheet_name=s)\n",
    "    dat[s]['Year'] = int(s)\n",
    "    dat[s] = dat[s].dropna()"
   ]
  },
  {
   "cell_type": "code",
   "execution_count": 3,
   "metadata": {},
   "outputs": [
    {
     "data": {
      "text/html": [
       "<div>\n",
       "<style scoped>\n",
       "    .dataframe tbody tr th:only-of-type {\n",
       "        vertical-align: middle;\n",
       "    }\n",
       "\n",
       "    .dataframe tbody tr th {\n",
       "        vertical-align: top;\n",
       "    }\n",
       "\n",
       "    .dataframe thead th {\n",
       "        text-align: right;\n",
       "    }\n",
       "</style>\n",
       "<table border=\"1\" class=\"dataframe\">\n",
       "  <thead>\n",
       "    <tr style=\"text-align: right;\">\n",
       "      <th></th>\n",
       "      <th>Team</th>\n",
       "      <th>Conference</th>\n",
       "      <th>Region</th>\n",
       "      <th>Cinderella</th>\n",
       "      <th>Conference Tournament Champion</th>\n",
       "      <th>Number of Tournament Wins</th>\n",
       "      <th>Made Tournament Previous Year</th>\n",
       "      <th>Game Count</th>\n",
       "      <th>Wins</th>\n",
       "      <th>Losses</th>\n",
       "      <th>...</th>\n",
       "      <th>ESPN Strength of Schedule</th>\n",
       "      <th>Wins Against Top 25 RPI Teams</th>\n",
       "      <th>Losses Against Top 25 RPI Teams</th>\n",
       "      <th>Total Points</th>\n",
       "      <th>Average PPG</th>\n",
       "      <th>Total Opp Points</th>\n",
       "      <th>Average Opp PPG</th>\n",
       "      <th>Total Scoring Differential</th>\n",
       "      <th>Scoring Differential Per Game</th>\n",
       "      <th>Year</th>\n",
       "    </tr>\n",
       "  </thead>\n",
       "  <tbody>\n",
       "    <tr>\n",
       "      <th>0</th>\n",
       "      <td>Albany (NY)</td>\n",
       "      <td>America East</td>\n",
       "      <td>South</td>\n",
       "      <td>1.0</td>\n",
       "      <td>1.0</td>\n",
       "      <td>0.0</td>\n",
       "      <td>1.0</td>\n",
       "      <td>32.0</td>\n",
       "      <td>18.0</td>\n",
       "      <td>14.0</td>\n",
       "      <td>...</td>\n",
       "      <td>287.0</td>\n",
       "      <td>0.0</td>\n",
       "      <td>0.0</td>\n",
       "      <td>2113.0</td>\n",
       "      <td>66.0</td>\n",
       "      <td>2043.0</td>\n",
       "      <td>63.8</td>\n",
       "      <td>70.0</td>\n",
       "      <td>2.2</td>\n",
       "      <td>2014</td>\n",
       "    </tr>\n",
       "    <tr>\n",
       "      <th>1</th>\n",
       "      <td>American</td>\n",
       "      <td>Patriot</td>\n",
       "      <td>West</td>\n",
       "      <td>1.0</td>\n",
       "      <td>1.0</td>\n",
       "      <td>0.0</td>\n",
       "      <td>0.0</td>\n",
       "      <td>32.0</td>\n",
       "      <td>20.0</td>\n",
       "      <td>12.0</td>\n",
       "      <td>...</td>\n",
       "      <td>234.0</td>\n",
       "      <td>0.0</td>\n",
       "      <td>1.0</td>\n",
       "      <td>2046.0</td>\n",
       "      <td>63.9</td>\n",
       "      <td>1876.0</td>\n",
       "      <td>58.6</td>\n",
       "      <td>170.0</td>\n",
       "      <td>5.3</td>\n",
       "      <td>2014</td>\n",
       "    </tr>\n",
       "    <tr>\n",
       "      <th>2</th>\n",
       "      <td>Arizona</td>\n",
       "      <td>Pac-12</td>\n",
       "      <td>West</td>\n",
       "      <td>0.0</td>\n",
       "      <td>0.0</td>\n",
       "      <td>3.0</td>\n",
       "      <td>1.0</td>\n",
       "      <td>34.0</td>\n",
       "      <td>30.0</td>\n",
       "      <td>4.0</td>\n",
       "      <td>...</td>\n",
       "      <td>5.0</td>\n",
       "      <td>4.0</td>\n",
       "      <td>1.0</td>\n",
       "      <td>2484.0</td>\n",
       "      <td>73.1</td>\n",
       "      <td>1977.0</td>\n",
       "      <td>58.1</td>\n",
       "      <td>507.0</td>\n",
       "      <td>15.0</td>\n",
       "      <td>2014</td>\n",
       "    </tr>\n",
       "    <tr>\n",
       "      <th>3</th>\n",
       "      <td>Arizona St.</td>\n",
       "      <td>Pac-12</td>\n",
       "      <td>Midwest</td>\n",
       "      <td>1.0</td>\n",
       "      <td>0.0</td>\n",
       "      <td>0.0</td>\n",
       "      <td>0.0</td>\n",
       "      <td>32.0</td>\n",
       "      <td>21.0</td>\n",
       "      <td>11.0</td>\n",
       "      <td>...</td>\n",
       "      <td>58.0</td>\n",
       "      <td>1.0</td>\n",
       "      <td>3.0</td>\n",
       "      <td>2401.0</td>\n",
       "      <td>75.0</td>\n",
       "      <td>2204.0</td>\n",
       "      <td>68.9</td>\n",
       "      <td>197.0</td>\n",
       "      <td>6.1</td>\n",
       "      <td>2014</td>\n",
       "    </tr>\n",
       "    <tr>\n",
       "      <th>4</th>\n",
       "      <td>Baylor</td>\n",
       "      <td>Big 12</td>\n",
       "      <td>West</td>\n",
       "      <td>0.0</td>\n",
       "      <td>0.0</td>\n",
       "      <td>2.0</td>\n",
       "      <td>0.0</td>\n",
       "      <td>35.0</td>\n",
       "      <td>24.0</td>\n",
       "      <td>11.0</td>\n",
       "      <td>...</td>\n",
       "      <td>10.0</td>\n",
       "      <td>2.0</td>\n",
       "      <td>5.0</td>\n",
       "      <td>2632.0</td>\n",
       "      <td>75.2</td>\n",
       "      <td>2393.0</td>\n",
       "      <td>68.4</td>\n",
       "      <td>239.0</td>\n",
       "      <td>6.8</td>\n",
       "      <td>2014</td>\n",
       "    </tr>\n",
       "  </tbody>\n",
       "</table>\n",
       "<p>5 rows × 33 columns</p>\n",
       "</div>"
      ],
      "text/plain": [
       "          Team    Conference   Region  Cinderella  \\\n",
       "0  Albany (NY)  America East    South         1.0   \n",
       "1     American       Patriot     West         1.0   \n",
       "2      Arizona        Pac-12     West         0.0   \n",
       "3  Arizona St.        Pac-12  Midwest         1.0   \n",
       "4       Baylor        Big 12     West         0.0   \n",
       "\n",
       "   Conference Tournament Champion  Number of Tournament Wins  \\\n",
       "0                             1.0                        0.0   \n",
       "1                             1.0                        0.0   \n",
       "2                             0.0                        3.0   \n",
       "3                             0.0                        0.0   \n",
       "4                             0.0                        2.0   \n",
       "\n",
       "   Made Tournament Previous Year  Game Count  Wins  Losses  ...  \\\n",
       "0                            1.0        32.0  18.0    14.0  ...   \n",
       "1                            0.0        32.0  20.0    12.0  ...   \n",
       "2                            1.0        34.0  30.0     4.0  ...   \n",
       "3                            0.0        32.0  21.0    11.0  ...   \n",
       "4                            0.0        35.0  24.0    11.0  ...   \n",
       "\n",
       "   ESPN Strength of Schedule  Wins Against Top 25 RPI Teams  \\\n",
       "0                      287.0                            0.0   \n",
       "1                      234.0                            0.0   \n",
       "2                        5.0                            4.0   \n",
       "3                       58.0                            1.0   \n",
       "4                       10.0                            2.0   \n",
       "\n",
       "   Losses Against Top 25 RPI Teams  Total Points  Average PPG  \\\n",
       "0                              0.0        2113.0         66.0   \n",
       "1                              1.0        2046.0         63.9   \n",
       "2                              1.0        2484.0         73.1   \n",
       "3                              3.0        2401.0         75.0   \n",
       "4                              5.0        2632.0         75.2   \n",
       "\n",
       "   Total Opp Points  Average Opp PPG  Total Scoring Differential  \\\n",
       "0            2043.0             63.8                        70.0   \n",
       "1            1876.0             58.6                       170.0   \n",
       "2            1977.0             58.1                       507.0   \n",
       "3            2204.0             68.9                       197.0   \n",
       "4            2393.0             68.4                       239.0   \n",
       "\n",
       "   Scoring Differential Per Game  Year  \n",
       "0                            2.2  2014  \n",
       "1                            5.3  2014  \n",
       "2                           15.0  2014  \n",
       "3                            6.1  2014  \n",
       "4                            6.8  2014  \n",
       "\n",
       "[5 rows x 33 columns]"
      ]
     },
     "execution_count": 3,
     "metadata": {},
     "output_type": "execute_result"
    }
   ],
   "source": [
    "dat[s].head()"
   ]
  },
  {
   "cell_type": "code",
   "execution_count": 4,
   "metadata": {},
   "outputs": [],
   "source": [
    "# get all the data into the same dataframe and delete original dictionary of dataframes\n",
    "df = dat[sheets[0]]\n",
    "for s in sheets[1:]:\n",
    "    df = df.append(dat[s])\n",
    "df = df.reset_index()\n",
    "df = df.drop(['index'],axis=1)\n",
    "del(dat)"
   ]
  },
  {
   "cell_type": "code",
   "execution_count": 5,
   "metadata": {},
   "outputs": [],
   "source": [
    "# Graphing parameters\n",
    "label_angle = 90\n",
    "figs = (5,13)"
   ]
  },
  {
   "cell_type": "code",
   "execution_count": 6,
   "metadata": {},
   "outputs": [],
   "source": [
    "# this is the function that should be used to get the results for a given algorithm/sorting of the data\n",
    "def getScore(data):\n",
    "    # get the top 10 rows\n",
    "    top10 = data.iloc[0:10,:]\n",
    "    score = 0\n",
    "    # calculate the score\n",
    "    for i in range(0,len(top10)):\n",
    "        # calculate for top 10\n",
    "        score += abs(10-i) * top10.iloc[i]['Number of Tournament Wins']\n",
    "        # calculate for cinderella\n",
    "        if top10.iloc[i]['Cinderella'] > 0:\n",
    "            score += 5\n",
    "    return score"
   ]
  },
  {
   "cell_type": "code",
   "execution_count": 7,
   "metadata": {},
   "outputs": [],
   "source": [
    "# output results from combination of given variables for sorting\n",
    "# data is the dataframe to be sorted\n",
    "# sorting_keys is a list of columns in data that the sorting will happen on\n",
    "# ascending is a boolean for sorting based on ascending or descending values\n",
    "\n",
    "def sortingResults(data, sorting_keys,ascending = True):\n",
    "    data = data.sort_values(sorting_keys,ascending = ascending)\n",
    "    return getScore(data)\n",
    "    "
   ]
  },
  {
   "cell_type": "code",
   "execution_count": 8,
   "metadata": {},
   "outputs": [],
   "source": [
    "# quickly display graph with preset values and format\n",
    "# data(dict)\n",
    "    # data.keys() are the yticks\n",
    "    # data.values() are the horizontal length of the bars\n",
    "# num_sorting(int) is the number of variables used to sort the data\n",
    "# ascending(str) is if the plot is ascending or descending\n",
    "def graphDict(data, num_sorting = 0, ascending = 'Ascending'):\n",
    "    plt.figure(figsize=figs)\n",
    "    plt.barh(list(data.keys()),data.values())\n",
    "    plt.xticks(rotation = label_angle)\n",
    "    plt.axvline(x=50, linewidth = 0.8, dashes = [10,15],color='black')\n",
    "    plt.axvline(x=150, linewidth = 0.8, dashes = [10,15],color='black')\n",
    "    plt.axvline(x=250, linewidth = 0.8, dashes = [10,15],color='black')\n",
    "    plt.axvline(x=350, linewidth = 0.8, dashes = [10,15],color='black')\n",
    "    plt.axvline(x=100, linewidth = 0.8, dashes = [10,15],color='red')\n",
    "    plt.axvline(x=200, linewidth = 0.8, dashes = [10,15],color='red')\n",
    "    plt.axvline(x=300, linewidth = 0.8, dashes = [10,15],color='red')\n",
    "    plt.axvline(x=400, linewidth = 0.8, dashes = [10,15],color='red')\n",
    "    plt.title(\"\".join([\"Sorting with \",str(num_sorting), \" variable(s) \", ascending]))\n",
    "    plt.show()"
   ]
  },
  {
   "cell_type": "code",
   "execution_count": 9,
   "metadata": {},
   "outputs": [
    {
     "name": "stdout",
     "output_type": "stream",
     "text": [
      "<class 'pandas.core.frame.DataFrame'>\n",
      "RangeIndex: 410 entries, 0 to 409\n",
      "Data columns (total 33 columns):\n",
      " #   Column                           Non-Null Count  Dtype  \n",
      "---  ------                           --------------  -----  \n",
      " 0   Team                             410 non-null    object \n",
      " 1   Conference                       410 non-null    object \n",
      " 2   Region                           410 non-null    object \n",
      " 3   Cinderella                       410 non-null    float64\n",
      " 4   Conference Tournament Champion   410 non-null    float64\n",
      " 5   Number of Tournament Wins        410 non-null    float64\n",
      " 6   Made Tournament Previous Year    410 non-null    float64\n",
      " 7   Game Count                       410 non-null    float64\n",
      " 8   Wins                             410 non-null    float64\n",
      " 9   Losses                           410 non-null    float64\n",
      " 10  3-Pointers Made                  410 non-null    float64\n",
      " 11  3-Pointers Attempted             410 non-null    float64\n",
      " 12  3-Point Percentage               410 non-null    float64\n",
      " 13  Free Throws Made                 410 non-null    float64\n",
      " 14  Free Throws Attempted            410 non-null    float64\n",
      " 15  Free Throw Percentage            410 non-null    float64\n",
      " 16  Rebounds                         410 non-null    float64\n",
      " 17  Opponent's Rebounds              410 non-null    float64\n",
      " 18  Rebound Differential             410 non-null    float64\n",
      " 19  Offensive Rebounds               410 non-null    float64\n",
      " 20  Assists                          410 non-null    float64\n",
      " 21  Turnovers                        410 non-null    float64\n",
      " 22  Assist to Turnover Ratio         410 non-null    float64\n",
      " 23  ESPN Strength of Schedule        410 non-null    float64\n",
      " 24  Wins Against Top 25 RPI Teams    410 non-null    float64\n",
      " 25  Losses Against Top 25 RPI Teams  410 non-null    float64\n",
      " 26  Total Points                     410 non-null    float64\n",
      " 27  Average PPG                      410 non-null    float64\n",
      " 28  Total Opp Points                 410 non-null    float64\n",
      " 29  Average Opp PPG                  410 non-null    float64\n",
      " 30  Total Scoring Differential       410 non-null    float64\n",
      " 31  Scoring Differential Per Game    410 non-null    float64\n",
      " 32  Year                             410 non-null    int64  \n",
      "dtypes: float64(29), int64(1), object(3)\n",
      "memory usage: 105.8+ KB\n"
     ]
    }
   ],
   "source": [
    "df.info()"
   ]
  },
  {
   "cell_type": "code",
   "execution_count": 10,
   "metadata": {},
   "outputs": [],
   "source": [
    "# dummies for Region\n",
    "dums = pd.get_dummies(df['Region'])\n",
    "df[dums.columns] = dums\n",
    "df = df.drop(['Region'], axis=1)"
   ]
  },
  {
   "cell_type": "code",
   "execution_count": 11,
   "metadata": {},
   "outputs": [
    {
     "data": {
      "text/plain": [
       "46"
      ]
     },
     "execution_count": 11,
     "metadata": {},
     "output_type": "execute_result"
    }
   ],
   "source": [
    "# conference\n",
    "df['Conference'].nunique()"
   ]
  },
  {
   "cell_type": "code",
   "execution_count": 12,
   "metadata": {},
   "outputs": [
    {
     "data": {
      "text/html": [
       "<div>\n",
       "<style scoped>\n",
       "    .dataframe tbody tr th:only-of-type {\n",
       "        vertical-align: middle;\n",
       "    }\n",
       "\n",
       "    .dataframe tbody tr th {\n",
       "        vertical-align: top;\n",
       "    }\n",
       "\n",
       "    .dataframe thead th {\n",
       "        text-align: right;\n",
       "    }\n",
       "</style>\n",
       "<table border=\"1\" class=\"dataframe\">\n",
       "  <thead>\n",
       "    <tr style=\"text-align: right;\">\n",
       "      <th></th>\n",
       "      <th>Team</th>\n",
       "      <th>Conference</th>\n",
       "      <th>Cinderella</th>\n",
       "      <th>Conference Tournament Champion</th>\n",
       "      <th>Number of Tournament Wins</th>\n",
       "      <th>Made Tournament Previous Year</th>\n",
       "      <th>Game Count</th>\n",
       "      <th>Wins</th>\n",
       "      <th>Losses</th>\n",
       "      <th>3-Pointers Made</th>\n",
       "      <th>...</th>\n",
       "      <th>Average PPG</th>\n",
       "      <th>Total Opp Points</th>\n",
       "      <th>Average Opp PPG</th>\n",
       "      <th>Total Scoring Differential</th>\n",
       "      <th>Scoring Differential Per Game</th>\n",
       "      <th>Year</th>\n",
       "      <th>East</th>\n",
       "      <th>Midwest</th>\n",
       "      <th>South</th>\n",
       "      <th>West</th>\n",
       "    </tr>\n",
       "  </thead>\n",
       "  <tbody>\n",
       "    <tr>\n",
       "      <th>0</th>\n",
       "      <td>Florida</td>\n",
       "      <td>SEC</td>\n",
       "      <td>1.0</td>\n",
       "      <td>0.0</td>\n",
       "      <td>1.0</td>\n",
       "      <td>1.0</td>\n",
       "      <td>34.0</td>\n",
       "      <td>19.0</td>\n",
       "      <td>15.0</td>\n",
       "      <td>277.0</td>\n",
       "      <td>...</td>\n",
       "      <td>68.3</td>\n",
       "      <td>2164.0</td>\n",
       "      <td>63.6</td>\n",
       "      <td>157.0</td>\n",
       "      <td>4.6</td>\n",
       "      <td>2019</td>\n",
       "      <td>0</td>\n",
       "      <td>0</td>\n",
       "      <td>0</td>\n",
       "      <td>1</td>\n",
       "    </tr>\n",
       "    <tr>\n",
       "      <th>1</th>\n",
       "      <td>Ohio St.</td>\n",
       "      <td>Big Ten</td>\n",
       "      <td>1.0</td>\n",
       "      <td>0.0</td>\n",
       "      <td>1.0</td>\n",
       "      <td>1.0</td>\n",
       "      <td>33.0</td>\n",
       "      <td>19.0</td>\n",
       "      <td>14.0</td>\n",
       "      <td>249.0</td>\n",
       "      <td>...</td>\n",
       "      <td>69.6</td>\n",
       "      <td>2185.0</td>\n",
       "      <td>66.2</td>\n",
       "      <td>113.0</td>\n",
       "      <td>3.4</td>\n",
       "      <td>2019</td>\n",
       "      <td>0</td>\n",
       "      <td>1</td>\n",
       "      <td>0</td>\n",
       "      <td>0</td>\n",
       "    </tr>\n",
       "    <tr>\n",
       "      <th>2</th>\n",
       "      <td>Oklahoma</td>\n",
       "      <td>Big 12</td>\n",
       "      <td>1.0</td>\n",
       "      <td>0.0</td>\n",
       "      <td>1.0</td>\n",
       "      <td>1.0</td>\n",
       "      <td>32.0</td>\n",
       "      <td>19.0</td>\n",
       "      <td>13.0</td>\n",
       "      <td>212.0</td>\n",
       "      <td>...</td>\n",
       "      <td>71.2</td>\n",
       "      <td>2183.0</td>\n",
       "      <td>68.2</td>\n",
       "      <td>94.0</td>\n",
       "      <td>2.9</td>\n",
       "      <td>2019</td>\n",
       "      <td>0</td>\n",
       "      <td>0</td>\n",
       "      <td>1</td>\n",
       "      <td>0</td>\n",
       "    </tr>\n",
       "    <tr>\n",
       "      <th>3</th>\n",
       "      <td>Louisville</td>\n",
       "      <td>ACC</td>\n",
       "      <td>0.0</td>\n",
       "      <td>0.0</td>\n",
       "      <td>0.0</td>\n",
       "      <td>0.0</td>\n",
       "      <td>33.0</td>\n",
       "      <td>20.0</td>\n",
       "      <td>13.0</td>\n",
       "      <td>285.0</td>\n",
       "      <td>...</td>\n",
       "      <td>74.5</td>\n",
       "      <td>2238.0</td>\n",
       "      <td>67.8</td>\n",
       "      <td>222.0</td>\n",
       "      <td>6.7</td>\n",
       "      <td>2019</td>\n",
       "      <td>1</td>\n",
       "      <td>0</td>\n",
       "      <td>0</td>\n",
       "      <td>0</td>\n",
       "    </tr>\n",
       "    <tr>\n",
       "      <th>4</th>\n",
       "      <td>Minnesota</td>\n",
       "      <td>Big Ten</td>\n",
       "      <td>1.0</td>\n",
       "      <td>0.0</td>\n",
       "      <td>1.0</td>\n",
       "      <td>0.0</td>\n",
       "      <td>34.0</td>\n",
       "      <td>21.0</td>\n",
       "      <td>13.0</td>\n",
       "      <td>178.0</td>\n",
       "      <td>...</td>\n",
       "      <td>70.8</td>\n",
       "      <td>2352.0</td>\n",
       "      <td>69.2</td>\n",
       "      <td>55.0</td>\n",
       "      <td>1.6</td>\n",
       "      <td>2019</td>\n",
       "      <td>1</td>\n",
       "      <td>0</td>\n",
       "      <td>0</td>\n",
       "      <td>0</td>\n",
       "    </tr>\n",
       "  </tbody>\n",
       "</table>\n",
       "<p>5 rows × 36 columns</p>\n",
       "</div>"
      ],
      "text/plain": [
       "         Team Conference  Cinderella  Conference Tournament Champion  \\\n",
       "0     Florida        SEC         1.0                             0.0   \n",
       "1    Ohio St.    Big Ten         1.0                             0.0   \n",
       "2    Oklahoma     Big 12         1.0                             0.0   \n",
       "3  Louisville        ACC         0.0                             0.0   \n",
       "4   Minnesota    Big Ten         1.0                             0.0   \n",
       "\n",
       "   Number of Tournament Wins  Made Tournament Previous Year  Game Count  Wins  \\\n",
       "0                        1.0                            1.0        34.0  19.0   \n",
       "1                        1.0                            1.0        33.0  19.0   \n",
       "2                        1.0                            1.0        32.0  19.0   \n",
       "3                        0.0                            0.0        33.0  20.0   \n",
       "4                        1.0                            0.0        34.0  21.0   \n",
       "\n",
       "   Losses  3-Pointers Made  ...  Average PPG  Total Opp Points  \\\n",
       "0    15.0            277.0  ...         68.3            2164.0   \n",
       "1    14.0            249.0  ...         69.6            2185.0   \n",
       "2    13.0            212.0  ...         71.2            2183.0   \n",
       "3    13.0            285.0  ...         74.5            2238.0   \n",
       "4    13.0            178.0  ...         70.8            2352.0   \n",
       "\n",
       "   Average Opp PPG  Total Scoring Differential  Scoring Differential Per Game  \\\n",
       "0             63.6                       157.0                            4.6   \n",
       "1             66.2                       113.0                            3.4   \n",
       "2             68.2                        94.0                            2.9   \n",
       "3             67.8                       222.0                            6.7   \n",
       "4             69.2                        55.0                            1.6   \n",
       "\n",
       "   Year  East  Midwest  South  West  \n",
       "0  2019     0        0      0     1  \n",
       "1  2019     0        1      0     0  \n",
       "2  2019     0        0      1     0  \n",
       "3  2019     1        0      0     0  \n",
       "4  2019     1        0      0     0  \n",
       "\n",
       "[5 rows x 36 columns]"
      ]
     },
     "execution_count": 12,
     "metadata": {},
     "output_type": "execute_result"
    }
   ],
   "source": [
    "df.head()"
   ]
  },
  {
   "cell_type": "code",
   "execution_count": 13,
   "metadata": {},
   "outputs": [],
   "source": [
    "# Sorting based on each variable\n",
    "oneVarAscending = {}\n",
    "oneVarDescending = {}\n",
    "# for each column\n",
    "for c in df.columns:\n",
    "    oneVarAscending[c] = sortingResults(data=df,sorting_keys=[c],ascending=True)\n",
    "    oneVarDescending[c] = sortingResults(data=df,sorting_keys=[c],ascending=False)\n",
    "    \n",
    "# Graph results from oneVarAscending/Descending\n",
    "#graphDict(data = oneVarAscending, num_sorting = 1, ascending = 'Ascending')\n",
    "#graphDict(data = oneVarDescending, num_sorting = 1, ascending = 'Descending')"
   ]
  },
  {
   "cell_type": "code",
   "execution_count": 14,
   "metadata": {},
   "outputs": [],
   "source": [
    "# Sorting with 2 variables\n",
    "twoVarOverallAsc = {}\n",
    "twoVarOverallDes = {}\n",
    "for c in df.columns:\n",
    "    twoVarAscending = {}\n",
    "    twoVarDescending = {}\n",
    "    for d in df.columns:\n",
    "        twoVarAscending[str(c+' * '+d)] = sortingResults(data=df,sorting_keys=[c,d],ascending=True)\n",
    "        twoVarDescending[str(c+' * '+d)] = sortingResults(data=df,sorting_keys=[c,d],ascending=False)\n",
    "    #graphDict(data = twoVarAscending, num_sorting = 2, ascending = 'Ascending')\n",
    "    #graphDict(data = twoVarDescending, num_sorting = 2, ascending = 'Descending')\n",
    "    twoVarOverallAsc[c] = twoVarAscending\n",
    "    twoVarOverallDes[c] = twoVarDescending\n",
    "    del twoVarAscending\n",
    "    del twoVarDescending\n",
    " "
   ]
  },
  {
   "cell_type": "code",
   "execution_count": 15,
   "metadata": {},
   "outputs": [],
   "source": [
    "# Create a dataframe for ascending/descending two variable sorting that contains the scores for\n",
    "# sorting by (column, row)\n",
    "\n",
    "# Ascending\n",
    "twoAsc = pd.DataFrame(0, columns=twoVarOverallAsc.keys(), index=twoVarOverallAsc.keys())\n",
    "for c in twoAsc.columns:\n",
    "    twoAsc[c] = twoVarOverallAsc[c].values()\n",
    "\n",
    "# Descending\n",
    "twoDes = pd.DataFrame(0, columns=twoVarOverallDes.keys(), index=twoVarOverallDes.keys())\n",
    "for c in twoDes.columns:\n",
    "    twoDes[c] = twoVarOverallDes[c].values()"
   ]
  },
  {
   "cell_type": "code",
   "execution_count": 16,
   "metadata": {
    "scrolled": true
   },
   "outputs": [
    {
     "name": "stdout",
     "output_type": "stream",
     "text": [
      "Ascending:\n",
      "Team 63.0\n",
      "Conference 98.0\n",
      "Cinderella 155.0\n",
      "Conference Tournament Champion 140.0\n",
      "Number of Tournament Wins 50.0\n",
      "Made Tournament Previous Year 87.0\n",
      "Game Count 73.0\n",
      "Wins 50.0\n",
      "Losses 156.0\n",
      "3-Pointers Made 41.0\n",
      "3-Pointers Attempted 50.0\n",
      "3-Point Percentage 75.0\n",
      "Free Throws Made 43.0\n",
      "Free Throws Attempted 59.0\n",
      "Free Throw Percentage 83.0\n",
      "Rebounds 64.0\n",
      "Opponent's Rebounds 74.0\n",
      "Rebound Differential 55.0\n",
      "Offensive Rebounds 91.0\n",
      "Assists 53.0\n",
      "Turnovers 148.0\n",
      "Assist to Turnover Ratio 54.0\n",
      "ESPN Strength of Schedule 104.0\n",
      "Wins Against Top 25 RPI Teams 90.0\n",
      "Losses Against Top 25 RPI Teams 165.0\n",
      "Total Points 52.0\n",
      "Average PPG 51.0\n",
      "Total Opp Points 93.0\n",
      "Average Opp PPG 98.0\n",
      "Total Scoring Differential 50.0\n",
      "Scoring Differential Per Game 50.0\n",
      "Year 142.0\n",
      "East 162.0\n",
      "Midwest 151.0\n",
      "South 138.0\n",
      "West 128.0\n",
      "\n",
      "\n",
      "Descending\n",
      "Team 93.0\n",
      "Conference 88.0\n",
      "Cinderella 224.0\n",
      "Conference Tournament Champion 275.0\n",
      "Number of Tournament Wins 320.0\n",
      "Made Tournament Previous Year 315.0\n",
      "Game Count 142.0\n",
      "Wins 174.0\n",
      "Losses 53.0\n",
      "3-Pointers Made 155.0\n",
      "3-Pointers Attempted 141.0\n",
      "3-Point Percentage 89.0\n",
      "Free Throws Made 86.0\n",
      "Free Throws Attempted 89.0\n",
      "Free Throw Percentage 59.0\n",
      "Rebounds 127.0\n",
      "Opponent's Rebounds 54.0\n",
      "Rebound Differential 115.0\n",
      "Offensive Rebounds 121.0\n",
      "Assists 106.0\n",
      "Turnovers 55.0\n",
      "Assist to Turnover Ratio 85.0\n",
      "ESPN Strength of Schedule 50.0\n",
      "Wins Against Top 25 RPI Teams 174.0\n",
      "Losses Against Top 25 RPI Teams 78.0\n",
      "Total Points 156.0\n",
      "Average PPG 142.0\n",
      "Total Opp Points 59.0\n",
      "Average Opp PPG 57.0\n",
      "Total Scoring Differential 166.0\n",
      "Scoring Differential Per Game 169.0\n",
      "Year 225.0\n",
      "East 256.0\n",
      "Midwest 225.0\n",
      "South 288.0\n",
      "West 254.0\n"
     ]
    }
   ],
   "source": [
    "# Look at max for each column of twoAsc and twoDes\n",
    "print(\"Ascending:\")\n",
    "for c in twoAsc.columns:\n",
    "    print(c,twoAsc[c].max())\n",
    "print(\"\\n\\nDescending\")\n",
    "for c in twoDes.columns:\n",
    "    print(c,twoDes[c].max())"
   ]
  },
  {
   "cell_type": "code",
   "execution_count": 17,
   "metadata": {},
   "outputs": [],
   "source": [
    "cor = df.corr()"
   ]
  },
  {
   "cell_type": "code",
   "execution_count": 18,
   "metadata": {},
   "outputs": [
    {
     "data": {
      "text/plain": [
       "Cinderella                        -0.474215\n",
       "Conference Tournament Champion    -0.181267\n",
       "Number of Tournament Wins          1.000000\n",
       "Made Tournament Previous Year      0.324842\n",
       "Game Count                         0.152163\n",
       "Wins                               0.384278\n",
       "Losses                            -0.358408\n",
       "3-Pointers Made                    0.091400\n",
       "3-Pointers Attempted               0.052335\n",
       "3-Point Percentage                 0.129300\n",
       "Free Throws Made                  -0.018188\n",
       "Free Throws Attempted             -0.047565\n",
       "Free Throw Percentage              0.090790\n",
       "Rebounds                           0.153141\n",
       "Opponent's Rebounds               -0.117758\n",
       "Rebound Differential               0.223794\n",
       "Offensive Rebounds                 0.105593\n",
       "Assists                            0.212540\n",
       "Turnovers                         -0.195152\n",
       "Assist to Turnover Ratio           0.306475\n",
       "ESPN Strength of Schedule         -0.405170\n",
       "Wins Against Top 25 RPI Teams      0.430109\n",
       "Losses Against Top 25 RPI Teams    0.122240\n",
       "Total Points                       0.194787\n",
       "Average PPG                        0.144501\n",
       "Total Opp Points                  -0.147462\n",
       "Average Opp PPG                   -0.227316\n",
       "Total Scoring Differential         0.446484\n",
       "Scoring Differential Per Game      0.438009\n",
       "Year                               0.001000\n",
       "East                              -0.007645\n",
       "Midwest                           -0.016885\n",
       "South                              0.024992\n",
       "West                              -0.000167\n",
       "Name: Number of Tournament Wins, dtype: float64"
      ]
     },
     "execution_count": 18,
     "metadata": {},
     "output_type": "execute_result"
    }
   ],
   "source": [
    "# R value\n",
    "cor['Number of Tournament Wins']"
   ]
  },
  {
   "cell_type": "code",
   "execution_count": 19,
   "metadata": {},
   "outputs": [],
   "source": [
    "# R^2\n",
    "r2 = cor['Number of Tournament Wins']**2"
   ]
  },
  {
   "cell_type": "code",
   "execution_count": 20,
   "metadata": {},
   "outputs": [],
   "source": [
    "# Sort values and get rid of 'Number of Tournament Wins'\n",
    "r2 = r2.sort_values(ascending=False)[1:]"
   ]
  },
  {
   "cell_type": "code",
   "execution_count": 21,
   "metadata": {},
   "outputs": [
    {
     "data": {
      "text/plain": [
       "Cinderella                         2.248802e-01\n",
       "Total Scoring Differential         1.993482e-01\n",
       "Scoring Differential Per Game      1.918516e-01\n",
       "Wins Against Top 25 RPI Teams      1.849940e-01\n",
       "ESPN Strength of Schedule          1.641624e-01\n",
       "Wins                               1.476699e-01\n",
       "Losses                             1.284560e-01\n",
       "Made Tournament Previous Year      1.055225e-01\n",
       "Assist to Turnover Ratio           9.392674e-02\n",
       "Average Opp PPG                    5.167243e-02\n",
       "Rebound Differential               5.008368e-02\n",
       "Assists                            4.517324e-02\n",
       "Turnovers                          3.808444e-02\n",
       "Total Points                       3.794208e-02\n",
       "Conference Tournament Champion     3.285781e-02\n",
       "Rebounds                           2.345208e-02\n",
       "Game Count                         2.315359e-02\n",
       "Total Opp Points                   2.174504e-02\n",
       "Average PPG                        2.088043e-02\n",
       "3-Point Percentage                 1.671855e-02\n",
       "Losses Against Top 25 RPI Teams    1.494268e-02\n",
       "Opponent's Rebounds                1.386694e-02\n",
       "Offensive Rebounds                 1.114987e-02\n",
       "3-Pointers Made                    8.354016e-03\n",
       "Free Throw Percentage              8.242858e-03\n",
       "3-Pointers Attempted               2.738901e-03\n",
       "Free Throws Attempted              2.262433e-03\n",
       "South                              6.246157e-04\n",
       "Free Throws Made                   3.307964e-04\n",
       "Midwest                            2.851131e-04\n",
       "East                               5.845141e-05\n",
       "Year                               1.000672e-06\n",
       "West                               2.785542e-08\n",
       "Name: Number of Tournament Wins, dtype: float64"
      ]
     },
     "execution_count": 21,
     "metadata": {},
     "output_type": "execute_result"
    }
   ],
   "source": [
    "r2"
   ]
  },
  {
   "cell_type": "code",
   "execution_count": 22,
   "metadata": {},
   "outputs": [
    {
     "data": {
      "text/plain": [
       "Cinderella                       0.224880\n",
       "Total Scoring Differential       0.199348\n",
       "Scoring Differential Per Game    0.191852\n",
       "Wins Against Top 25 RPI Teams    0.184994\n",
       "ESPN Strength of Schedule        0.164162\n",
       "Wins                             0.147670\n",
       "Losses                           0.128456\n",
       "Made Tournament Previous Year    0.105523\n",
       "Name: Number of Tournament Wins, dtype: float64"
      ]
     },
     "execution_count": 22,
     "metadata": {},
     "output_type": "execute_result"
    }
   ],
   "source": [
    "# 10% R^2 values\n",
    "r2_10 = r2[r2.values >= 0.10]\n",
    "r2_10"
   ]
  },
  {
   "cell_type": "code",
   "execution_count": 23,
   "metadata": {},
   "outputs": [
    {
     "data": {
      "text/plain": [
       "Index(['Cinderella', 'Total Scoring Differential',\n",
       "       'Scoring Differential Per Game', 'Wins Against Top 25 RPI Teams',\n",
       "       'ESPN Strength of Schedule', 'Wins', 'Losses',\n",
       "       'Made Tournament Previous Year'],\n",
       "      dtype='object')"
      ]
     },
     "execution_count": 23,
     "metadata": {},
     "output_type": "execute_result"
    }
   ],
   "source": [
    "r2_10.index"
   ]
  },
  {
   "cell_type": "code",
   "execution_count": 24,
   "metadata": {},
   "outputs": [
    {
     "data": {
      "text/plain": [
       "Cinderella                       0.224880\n",
       "Total Scoring Differential       0.199348\n",
       "Scoring Differential Per Game    0.191852\n",
       "Wins Against Top 25 RPI Teams    0.184994\n",
       "ESPN Strength of Schedule        0.164162\n",
       "Wins                             0.147670\n",
       "Losses                           0.128456\n",
       "Made Tournament Previous Year    0.105523\n",
       "Assist to Turnover Ratio         0.093927\n",
       "Average Opp PPG                  0.051672\n",
       "Rebound Differential             0.050084\n",
       "Name: Number of Tournament Wins, dtype: float64"
      ]
     },
     "execution_count": 24,
     "metadata": {},
     "output_type": "execute_result"
    }
   ],
   "source": [
    "# 5% R^2 values\n",
    "r2_5 = r2[r2.values >= 0.05]\n",
    "r2_5"
   ]
  },
  {
   "cell_type": "code",
   "execution_count": 25,
   "metadata": {},
   "outputs": [],
   "source": [
    "from sklearn.linear_model import LinearRegression\n",
    "from sklearn.model_selection import train_test_split"
   ]
  },
  {
   "cell_type": "code",
   "execution_count": 26,
   "metadata": {},
   "outputs": [],
   "source": [
    "# Function for train test splitting and getting score of 2 dataframes\n",
    "# X is a dataframe of predictor values\n",
    "# y is a dataframe of response values\n",
    "\n",
    "def linReg(X,y):\n",
    "    X_train, X_test, y_train, y_test = train_test_split(X,y,random_state = 33, test_size = 0.30)\n",
    "    lm = LinearRegression()\n",
    "    lm.fit(X_train,y_train)\n",
    "    return lm.score(X_test,y_test)"
   ]
  },
  {
   "cell_type": "code",
   "execution_count": 27,
   "metadata": {},
   "outputs": [
    {
     "name": "stdout",
     "output_type": "stream",
     "text": [
      "0.342194792800263\n"
     ]
    }
   ],
   "source": [
    "# LinReg on all data\n",
    "\n",
    "y = df['Number of Tournament Wins']\n",
    "X = df.drop(['Number of Tournament Wins','Team','Conference'],axis=1)\n",
    "print(linReg(X,y))"
   ]
  },
  {
   "cell_type": "code",
   "execution_count": 28,
   "metadata": {},
   "outputs": [
    {
     "name": "stdout",
     "output_type": "stream",
     "text": [
      "0.38485781699991095\n"
     ]
    }
   ],
   "source": [
    "X = df[r2_10.index]\n",
    "y = df['Number of Tournament Wins']\n",
    "print(linReg(X,y))"
   ]
  },
  {
   "cell_type": "code",
   "execution_count": 29,
   "metadata": {},
   "outputs": [
    {
     "name": "stdout",
     "output_type": "stream",
     "text": [
      "0.3823726453303451\n"
     ]
    }
   ],
   "source": [
    "X = df[r2_5.index]\n",
    "y = df['Number of Tournament Wins']\n",
    "print(linReg(X,y))"
   ]
  },
  {
   "cell_type": "code",
   "execution_count": 30,
   "metadata": {},
   "outputs": [],
   "source": [
    "from sklearn.neural_network import MLPClassifier"
   ]
  },
  {
   "cell_type": "code",
   "execution_count": 31,
   "metadata": {},
   "outputs": [],
   "source": [
    "def N_Net(X,y):\n",
    "    X_train, X_test, y_train, y_test = train_test_split(X,y,random_state = 33, test_size = 0.30)\n",
    "    nn = MLPClassifier(solver='lbfgs', max_iter=100000)\n",
    "    nn.fit(X_train,y_train)\n",
    "    return nn.score(X_test,y_test)"
   ]
  },
  {
   "cell_type": "code",
   "execution_count": 36,
   "metadata": {},
   "outputs": [
    {
     "name": "stdout",
     "output_type": "stream",
     "text": [
      "0.5691056910569106\n"
     ]
    },
    {
     "name": "stderr",
     "output_type": "stream",
     "text": [
      "C:\\Anaconda\\lib\\site-packages\\sklearn\\neural_network\\_multilayer_perceptron.py:471: ConvergenceWarning: lbfgs failed to converge (status=2):\n",
      "ABNORMAL_TERMINATION_IN_LNSRCH.\n",
      "\n",
      "Increase the number of iterations (max_iter) or scale the data as shown in:\n",
      "    https://scikit-learn.org/stable/modules/preprocessing.html\n",
      "  self.n_iter_ = _check_optimize_result(\"lbfgs\", opt_res, self.max_iter)\n"
     ]
    }
   ],
   "source": [
    "y = df['Number of Tournament Wins']\n",
    "X = df.drop(['Number of Tournament Wins','Team','Conference'],axis=1)\n",
    "print(N_Net(X,y))"
   ]
  },
  {
   "cell_type": "code",
   "execution_count": 33,
   "metadata": {},
   "outputs": [
    {
     "name": "stdout",
     "output_type": "stream",
     "text": [
      "0.5121951219512195\n"
     ]
    }
   ],
   "source": [
    "y = df['Number of Tournament Wins']\n",
    "X = df[r2_10.index]\n",
    "print(N_Net(X,y))"
   ]
  },
  {
   "cell_type": "code",
   "execution_count": 35,
   "metadata": {},
   "outputs": [
    {
     "name": "stdout",
     "output_type": "stream",
     "text": [
      "0.4959349593495935\n"
     ]
    }
   ],
   "source": [
    "y = df['Number of Tournament Wins']\n",
    "X = df[r2_5.index]\n",
    "print(N_Net(X,y))"
   ]
  },
  {
   "cell_type": "code",
   "execution_count": null,
   "metadata": {},
   "outputs": [],
   "source": []
  }
 ],
 "metadata": {
  "kernelspec": {
   "display_name": "Python 3",
   "language": "python",
   "name": "python3"
  },
  "language_info": {
   "codemirror_mode": {
    "name": "ipython",
    "version": 3
   },
   "file_extension": ".py",
   "mimetype": "text/x-python",
   "name": "python",
   "nbconvert_exporter": "python",
   "pygments_lexer": "ipython3",
   "version": "3.8.5"
  }
 },
 "nbformat": 4,
 "nbformat_minor": 1
}
