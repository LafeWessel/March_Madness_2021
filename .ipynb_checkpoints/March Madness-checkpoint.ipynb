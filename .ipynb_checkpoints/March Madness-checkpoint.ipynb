{
 "cells": [
  {
   "cell_type": "code",
   "execution_count": null,
   "metadata": {},
   "outputs": [],
   "source": [
    "# import libraries\n",
    "import pandas as pd\n",
    "import numpy as np\n",
    "import matplotlib.pyplot as plt"
   ]
  },
  {
   "cell_type": "code",
   "execution_count": null,
   "metadata": {},
   "outputs": [],
   "source": [
    "# import excel file and add year column and values.\n",
    "# each excel sheet is imported and put into a dictionary with the key being the respective year\n",
    "sheets = ['2019','2018','2017','2016','2015','2014']\n",
    "dat = {}\n",
    "for s in sheets:\n",
    "    dat[s] = pd.read_excel('March Madness.xlsx',sheet_name=s)\n",
    "    dat[s]['Year'] = int(s)\n",
    "    dat[s] = dat[s].dropna()"
   ]
  },
  {
   "cell_type": "code",
   "execution_count": null,
   "metadata": {},
   "outputs": [],
   "source": [
    "dat[s].head()"
   ]
  },
  {
   "cell_type": "code",
   "execution_count": null,
   "metadata": {},
   "outputs": [],
   "source": [
    "# compress all the data into the same dataframe and delete original dictionary of dataframes\n",
    "df = dat[sheets[0]]\n",
    "for s in sheets[1:]:\n",
    "    df = df.append(dat[s])\n",
    "df = df.reset_index()\n",
    "df = df.drop(['index'],axis=1)\n",
    "del(dat)"
   ]
  },
  {
   "cell_type": "code",
   "execution_count": null,
   "metadata": {},
   "outputs": [],
   "source": [
    "# Graphing parameters\n",
    "label_angle = 90\n",
    "figs = (5,13)"
   ]
  },
  {
   "cell_type": "markdown",
   "metadata": {},
   "source": [
    "# Functions"
   ]
  },
  {
   "cell_type": "code",
   "execution_count": null,
   "metadata": {},
   "outputs": [],
   "source": [
    "# getScore takes a dataframe and returns what the score of that dataframe is based on how it is sorted\n",
    "# The score is calculated as 10 points for each win of team 1, 9 points for each win of team 2, ...\n",
    "# 1 point for each win of team 10. If a team is a Cinderella, 5 points are added.\n",
    "def getScore(data):\n",
    "    # get the top 10 rows\n",
    "    data = data.reset_index()\n",
    "    score = 0\n",
    "    # calculate the score\n",
    "    for i in range(0,10):\n",
    "\n",
    "        # calculate for top 10\n",
    "        score += (10-i) * data.iloc[i]['Number of Tournament Wins']\n",
    "        \n",
    "        # account for cinderella teams\n",
    "        if data.iloc[i,:]['Cinderella'] > 0:\n",
    "            score += 5\n",
    "    # end for\n",
    "    return score"
   ]
  },
  {
   "cell_type": "code",
   "execution_count": null,
   "metadata": {},
   "outputs": [],
   "source": [
    "# returns the score for a given dataframe sorted based on given columns\n",
    "# data is the dataframe to be sorted\n",
    "# sorting_keys is a list of columns in data that the sorting will happen on\n",
    "# ascending is a boolean for sorting based on ascending or descending values\n",
    "\n",
    "def sortingResults(data, sorting_keys,ascending = True):\n",
    "    data = data.sort_values(sorting_keys,ascending = ascending)\n",
    "    return getScore(data)\n",
    "    "
   ]
  },
  {
   "cell_type": "code",
   "execution_count": null,
   "metadata": {},
   "outputs": [],
   "source": [
    "# quickly display graph with preset values and format\n",
    "# data(dict)\n",
    "    # data.keys() are the yticks\n",
    "    # data.values() are the horizontal length of the bars\n",
    "# num_sorting(int) is the number of variables used to sort the data\n",
    "# ascending(str) is if the plot is ascending or descending\n",
    "def graphDict(data, num_sorting = 0, ascending = 'Ascending'):\n",
    "    plt.figure(figsize=figs)\n",
    "    plt.barh(list(data.keys()),data.values())\n",
    "    plt.xticks(rotation = label_angle)\n",
    "    plt.axvline(x=50, linewidth = 0.8, dashes = [10,15],color='black')\n",
    "    plt.axvline(x=150, linewidth = 0.8, dashes = [10,15],color='black')\n",
    "    plt.axvline(x=250, linewidth = 0.8, dashes = [10,15],color='black')\n",
    "    plt.axvline(x=350, linewidth = 0.8, dashes = [10,15],color='black')\n",
    "    plt.axvline(x=100, linewidth = 0.8, dashes = [10,15],color='red')\n",
    "    plt.axvline(x=200, linewidth = 0.8, dashes = [10,15],color='red')\n",
    "    plt.axvline(x=300, linewidth = 0.8, dashes = [10,15],color='red')\n",
    "    plt.axvline(x=400, linewidth = 0.8, dashes = [10,15],color='red')\n",
    "    plt.title(\"\".join([\"Sorting with \",str(num_sorting), \" variable(s) \", ascending]))\n",
    "    plt.show()"
   ]
  },
  {
   "cell_type": "code",
   "execution_count": null,
   "metadata": {
    "scrolled": true
   },
   "outputs": [],
   "source": [
    "df.info()"
   ]
  },
  {
   "cell_type": "markdown",
   "metadata": {},
   "source": [
    "# Data Prep"
   ]
  },
  {
   "cell_type": "code",
   "execution_count": null,
   "metadata": {},
   "outputs": [],
   "source": [
    "# dummies for Region\n",
    "dums = pd.get_dummies(df['Region'])\n",
    "df[dums.columns] = dums\n",
    "df = df.drop(['Region'], axis=1)"
   ]
  },
  {
   "cell_type": "code",
   "execution_count": null,
   "metadata": {},
   "outputs": [],
   "source": [
    "# conference\n",
    "df['Conference'].nunique()"
   ]
  },
  {
   "cell_type": "code",
   "execution_count": null,
   "metadata": {
    "scrolled": true
   },
   "outputs": [],
   "source": [
    "df.head()"
   ]
  },
  {
   "cell_type": "markdown",
   "metadata": {},
   "source": [
    "# Sorting"
   ]
  },
  {
   "cell_type": "code",
   "execution_count": null,
   "metadata": {},
   "outputs": [],
   "source": [
    "# get and save scores for sorting data based on each combination of 1 column\n",
    "oneVarAscending = {}\n",
    "oneVarDescending = {}\n",
    "# for each column\n",
    "for c in df.columns:\n",
    "    oneVarAscending[c] = sortingResults(data=df,sorting_keys=[c],ascending=True)\n",
    "    oneVarDescending[c] = sortingResults(data=df,sorting_keys=[c],ascending=False)\n",
    "# end for\n",
    "\n",
    "# Graph results from oneVarAscending/Descending\n",
    "#graphDict(data = oneVarAscending, num_sorting = 1, ascending = 'Ascending')\n",
    "#graphDict(data = oneVarDescending, num_sorting = 1, ascending = 'Descending')"
   ]
  },
  {
   "cell_type": "code",
   "execution_count": null,
   "metadata": {},
   "outputs": [],
   "source": [
    "# get and save scores for sorting data based on each combination of 2 columns\n",
    "twoVarOverallAsc = {}\n",
    "twoVarOverallDes = {}\n",
    "# for each column\n",
    "for c in df.columns:\n",
    "    twoVarAscending = {}\n",
    "    twoVarDescending = {}\n",
    "    for d in df.columns:\n",
    "        twoVarAscending[str(c+' * '+d)] = sortingResults(data=df,sorting_keys=[c,d],ascending=True)\n",
    "        twoVarDescending[str(c+' * '+d)] = sortingResults(data=df,sorting_keys=[c,d],ascending=False)\n",
    "    # end for\n",
    "    \n",
    "    #graphDict(data = twoVarAscending, num_sorting = 2, ascending = 'Ascending')\n",
    "    #graphDict(data = twoVarDescending, num_sorting = 2, ascending = 'Descending')\n",
    "    twoVarOverallAsc[c] = twoVarAscending\n",
    "    twoVarOverallDes[c] = twoVarDescending\n",
    "    del twoVarAscending\n",
    "    del twoVarDescending\n",
    "# end for\n",
    " "
   ]
  },
  {
   "cell_type": "code",
   "execution_count": null,
   "metadata": {},
   "outputs": [],
   "source": [
    "# Create a dataframe for ascending/descending two variable sorting that contains the scores for\n",
    "# sorting by (column, row)\n",
    "\n",
    "# Ascending\n",
    "twoAsc = pd.DataFrame(0, columns=twoVarOverallAsc.keys(), index=twoVarOverallAsc.keys())\n",
    "for c in twoAsc.columns:\n",
    "    twoAsc[c] = twoVarOverallAsc[c].values()\n",
    "\n",
    "# Descending\n",
    "twoDes = pd.DataFrame(0, columns=twoVarOverallDes.keys(), index=twoVarOverallDes.keys())\n",
    "for c in twoDes.columns:\n",
    "    twoDes[c] = twoVarOverallDes[c].values()"
   ]
  },
  {
   "cell_type": "code",
   "execution_count": null,
   "metadata": {
    "scrolled": true
   },
   "outputs": [],
   "source": [
    "# Look at max for each column of twoAsc and twoDes\n",
    "print(\"Ascending:\")\n",
    "for c in twoAsc.columns:\n",
    "    print(c,twoAsc[c].max())\n",
    "    \n",
    "print(\"\\n\\nDescending\")\n",
    "for c in twoDes.columns:\n",
    "    print(c,twoDes[c].max())"
   ]
  },
  {
   "cell_type": "markdown",
   "metadata": {},
   "source": [
    "# Linear Correlation"
   ]
  },
  {
   "cell_type": "code",
   "execution_count": null,
   "metadata": {},
   "outputs": [],
   "source": [
    "# get a matrix of how each column is correlated to each other column\n",
    "cor = df.corr()"
   ]
  },
  {
   "cell_type": "code",
   "execution_count": null,
   "metadata": {},
   "outputs": [],
   "source": [
    "# R value\n",
    "cor['Number of Tournament Wins']"
   ]
  },
  {
   "cell_type": "code",
   "execution_count": null,
   "metadata": {},
   "outputs": [],
   "source": [
    "# calculate R-Squared value\n",
    "r2 = cor['Number of Tournament Wins']**2"
   ]
  },
  {
   "cell_type": "code",
   "execution_count": null,
   "metadata": {},
   "outputs": [],
   "source": [
    "# Sort values and get rid of 'Number of Tournament Wins'\n",
    "r2 = r2.sort_values(ascending=False)[1:]"
   ]
  },
  {
   "cell_type": "code",
   "execution_count": null,
   "metadata": {},
   "outputs": [],
   "source": [
    "r2"
   ]
  },
  {
   "cell_type": "code",
   "execution_count": null,
   "metadata": {},
   "outputs": [],
   "source": [
    "# R-Squared values that are greater than 10%\n",
    "r2_10 = r2[r2.values >= 0.10]\n",
    "r2_10"
   ]
  },
  {
   "cell_type": "code",
   "execution_count": null,
   "metadata": {},
   "outputs": [],
   "source": [
    "r2_10.index"
   ]
  },
  {
   "cell_type": "code",
   "execution_count": null,
   "metadata": {},
   "outputs": [],
   "source": [
    "# R-Squared values that are greater than 5%\n",
    "r2_5 = r2[r2.values >= 0.05]\n",
    "r2_5"
   ]
  },
  {
   "cell_type": "markdown",
   "metadata": {},
   "source": [
    "# Linear Regression\n",
    "No significant effort was spent on optimizing the linear model, I used it as a rough baseline for what performance I could expect for attempting to predict number of tournament wins for each team."
   ]
  },
  {
   "cell_type": "code",
   "execution_count": null,
   "metadata": {},
   "outputs": [],
   "source": [
    "# import libraries\n",
    "from sklearn.linear_model import LinearRegression\n",
    "from sklearn.model_selection import train_test_split"
   ]
  },
  {
   "cell_type": "code",
   "execution_count": null,
   "metadata": {},
   "outputs": [],
   "source": [
    "# Function for train-test-splitting X and y, fitting a linear model, and returning the score\n",
    "# X is a dataframe of predictor values\n",
    "# y is a dataframe of response values\n",
    "\n",
    "def linReg(X,y):\n",
    "    X_train, X_test, y_train, y_test = train_test_split(X,y,random_state = 33, test_size = 0.30)\n",
    "    lm = LinearRegression()\n",
    "    lm.fit(X_train,y_train)\n",
    "    return lm.score(X_test,y_test)"
   ]
  },
  {
   "cell_type": "code",
   "execution_count": null,
   "metadata": {},
   "outputs": [],
   "source": [
    "# LinReg on all data\n",
    "y = df['Number of Tournament Wins']\n",
    "X = df.drop(['Number of Tournament Wins','Team','Conference'],axis=1)\n",
    "print(linReg(X,y))"
   ]
  },
  {
   "cell_type": "code",
   "execution_count": null,
   "metadata": {},
   "outputs": [],
   "source": [
    "# LinReg on columns with R-Squared greater than 10%\n",
    "X = df[r2_10.index]\n",
    "y = df['Number of Tournament Wins']\n",
    "print(linReg(X,y))"
   ]
  },
  {
   "cell_type": "code",
   "execution_count": null,
   "metadata": {},
   "outputs": [],
   "source": [
    "# LinReg on columns with R-Squared greater than 5%\n",
    "X = df[r2_5.index]\n",
    "y = df['Number of Tournament Wins']\n",
    "print(linReg(X,y))"
   ]
  },
  {
   "cell_type": "markdown",
   "metadata": {},
   "source": [
    "# Neural Network\n",
    "No significant effort was spent on optimizing the neural network, I used it as a rough baseline for what performance I could expect for attempting to predict number of tournament wins for each team."
   ]
  },
  {
   "cell_type": "code",
   "execution_count": null,
   "metadata": {},
   "outputs": [],
   "source": [
    "# import libraries\n",
    "from sklearn.neural_network import MLPClassifier"
   ]
  },
  {
   "cell_type": "code",
   "execution_count": null,
   "metadata": {},
   "outputs": [],
   "source": [
    "# Function for train-test-splitting X and y, training a neural network, and returning the score\n",
    "# X is a dataframe of predictor values\n",
    "# y is a dataframe of response values\n",
    "def N_Net(X,y):\n",
    "    X_train, X_test, y_train, y_test = train_test_split(X,y,random_state = 33, test_size = 0.30)\n",
    "    nn = MLPClassifier(solver='lbfgs', max_iter=100000)\n",
    "    nn.fit(X_train,y_train)\n",
    "    return nn.score(X_test,y_test)"
   ]
  },
  {
   "cell_type": "code",
   "execution_count": null,
   "metadata": {},
   "outputs": [],
   "source": [
    "# Testing NNet on all columns\n",
    "y = df['Number of Tournament Wins']\n",
    "X = df.drop(['Number of Tournament Wins','Team','Conference'],axis=1)\n",
    "print(N_Net(X,y))"
   ]
  },
  {
   "cell_type": "code",
   "execution_count": null,
   "metadata": {},
   "outputs": [],
   "source": [
    "# Testing NNet on columns with R-Squared greater than 10%\n",
    "y = df['Number of Tournament Wins']\n",
    "X = df[r2_10.index]\n",
    "print(N_Net(X,y))"
   ]
  },
  {
   "cell_type": "code",
   "execution_count": null,
   "metadata": {},
   "outputs": [],
   "source": [
    "# Testing NNet on columns with R-Squared greater than 5%\n",
    "y = df['Number of Tournament Wins']\n",
    "X = df[r2_5.index]\n",
    "print(N_Net(X,y))"
   ]
  }
 ],
 "metadata": {
  "kernelspec": {
   "display_name": "Python 3",
   "language": "python",
   "name": "python3"
  },
  "language_info": {
   "codemirror_mode": {
    "name": "ipython",
    "version": 3
   },
   "file_extension": ".py",
   "mimetype": "text/x-python",
   "name": "python",
   "nbconvert_exporter": "python",
   "pygments_lexer": "ipython3",
   "version": "3.8.5"
  }
 },
 "nbformat": 4,
 "nbformat_minor": 1
}
